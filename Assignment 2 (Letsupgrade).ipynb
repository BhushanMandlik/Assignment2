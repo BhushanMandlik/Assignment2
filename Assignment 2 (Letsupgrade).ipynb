{
 "cells": [
  {
   "cell_type": "markdown",
   "metadata": {},
   "source": [
    "# Question 1"
   ]
  },
  {
   "cell_type": "markdown",
   "metadata": {},
   "source": [
    "Write a Python program to remove duplicates from a list"
   ]
  },
  {
   "cell_type": "code",
   "execution_count": 2,
   "metadata": {},
   "outputs": [
    {
     "name": "stdout",
     "output_type": "stream",
     "text": [
      "Enter List Elements:1 2 5 3 4 5 1 2 5 6 4 8 9 7 5\n",
      "[1, 2, 5, 3, 4, 6, 8, 9, 7]\n"
     ]
    }
   ],
   "source": [
    "ls1 = list(map(int, input(\"Enter List Elements:\").split()))\n",
    "ls2 = []\n",
    "for i in ls1:\n",
    "    if i not in ls2:\n",
    "        ls2.append(i)\n",
    "print(ls2)"
   ]
  },
  {
   "cell_type": "markdown",
   "metadata": {},
   "source": [
    "# Question 2"
   ]
  },
  {
   "cell_type": "markdown",
   "metadata": {},
   "source": [
    "Write a Python program to get the difference between the two lists"
   ]
  },
  {
   "cell_type": "code",
   "execution_count": 4,
   "metadata": {},
   "outputs": [
    {
     "name": "stdout",
     "output_type": "stream",
     "text": [
      "Enter First List Elements:1 2 3 4 5 6\n",
      "Enter Second List Elements:7 8 9 10 11\n",
      "[1, 2, 3, 4, 5, 6, 7, 8, 9, 10, 11]\n"
     ]
    }
   ],
   "source": [
    "ls1 = list(map(int, input(\"Enter First List Elements:\").split()))\n",
    "ls2 = list(map(int, input(\"Enter Second List Elements:\").split()))\n",
    "res = list(list(set(ls1)-set(ls2)) + list(set(ls2)-set(ls1)))\n",
    "print(res)"
   ]
  },
  {
   "cell_type": "markdown",
   "metadata": {},
   "source": [
    "# Question 3"
   ]
  },
  {
   "cell_type": "markdown",
   "metadata": {},
   "source": [
    "Write a Python program to get the frequency of the elements in a list"
   ]
  },
  {
   "cell_type": "code",
   "execution_count": 5,
   "metadata": {},
   "outputs": [
    {
     "name": "stdout",
     "output_type": "stream",
     "text": [
      "Enter List Elements:1 2 3 1 2 3 4 5 6 1 2 3 5 6\n",
      "Frequency of 1 in list is 3\n",
      "Frequency of 2 in list is 3\n",
      "Frequency of 3 in list is 3\n",
      "Frequency of 4 in list is 1\n",
      "Frequency of 5 in list is 2\n",
      "Frequency of 6 in list is 2\n"
     ]
    }
   ],
   "source": [
    "ls1 = list(map(int, input(\"Enter List Elements:\").split()))\n",
    "ls1.sort()\n",
    "ls2 = []\n",
    "for i in ls1:\n",
    "    if i not in ls2:\n",
    "        ls2.append(i)\n",
    "for i in ls2:\n",
    "    print('Frequency of', i ,'in list is', ls1.count(i))"
   ]
  },
  {
   "cell_type": "markdown",
   "metadata": {},
   "source": [
    "# Question 4"
   ]
  },
  {
   "cell_type": "markdown",
   "metadata": {},
   "source": [
    "Write a Python program to compute the similarity between two lists.\n",
    "\n",
    "Sample data: [\"red\", \"orange\", \"green\", \"blue\", \"white\"], [\"black\", \"yellow\", \"green\", \"blue\"]\n",
    "\n",
    "Expected Output: Color1-Color2: ['white', 'orange', 'red']"
   ]
  },
  {
   "cell_type": "code",
   "execution_count": 6,
   "metadata": {},
   "outputs": [
    {
     "name": "stdout",
     "output_type": "stream",
     "text": [
      "['red', 'orange', 'white']\n"
     ]
    }
   ],
   "source": [
    "ls1 = [\"red\", \"orange\", \"green\", \"blue\", \"white\"]\n",
    "ls2 = [\"black\", \"yellow\", \"green\", \"blue\"]\n",
    "ls3 = []\n",
    "for i in ls1:\n",
    "    if i not in ls2:\n",
    "        ls3.append(i)\n",
    "print(ls3)"
   ]
  },
  {
   "cell_type": "markdown",
   "metadata": {},
   "source": [
    "# Question 5"
   ]
  },
  {
   "cell_type": "markdown",
   "metadata": {},
   "source": [
    "Write a Python function that takes a list of words and returns the length of the longest one"
   ]
  },
  {
   "cell_type": "code",
   "execution_count": 7,
   "metadata": {},
   "outputs": [
    {
     "name": "stdout",
     "output_type": "stream",
     "text": [
      "Enter String:Write a Python function that takes a list of words and returns the length of the longest one\n",
      "Length of the longest one is 8\n"
     ]
    }
   ],
   "source": [
    "def max_len(s1):\n",
    "    s1 = s.split(' ')\n",
    "    ls = []\n",
    "    for i in s1:\n",
    "        ls.append(len(i))\n",
    "    return max(ls)\n",
    "\n",
    "s = input('Enter String:')\n",
    "res = max_len(s)\n",
    "print('Length of the longest one is', res)"
   ]
  },
  {
   "cell_type": "markdown",
   "metadata": {},
   "source": [
    "# Question 6"
   ]
  },
  {
   "cell_type": "markdown",
   "metadata": {},
   "source": [
    "Write a Python program to count the occurrences of each word in a given sentence"
   ]
  },
  {
   "cell_type": "code",
   "execution_count": 8,
   "metadata": {},
   "outputs": [
    {
     "name": "stdout",
     "output_type": "stream",
     "text": [
      "Enter String:Write a Python program to count the occurrences of each word in a given sentence\n",
      "Occurances of Write in list is 1\n",
      "Occurances of a in list is 2\n",
      "Occurances of Python in list is 1\n",
      "Occurances of program in list is 1\n",
      "Occurances of to in list is 1\n",
      "Occurances of count in list is 1\n",
      "Occurances of the in list is 1\n",
      "Occurances of occurrences in list is 1\n",
      "Occurances of of in list is 1\n",
      "Occurances of each in list is 1\n",
      "Occurances of word in list is 1\n",
      "Occurances of in in list is 1\n",
      "Occurances of given in list is 1\n",
      "Occurances of sentence in list is 1\n"
     ]
    }
   ],
   "source": [
    "s = input('Enter String:')\n",
    "s1 = s.split(' ')\n",
    "ls = []\n",
    "for i in s1:\n",
    "    if i not in ls:\n",
    "        ls.append(i)\n",
    "for i in ls:\n",
    "    print('Occurances of', i ,'in list is', s1.count(i))"
   ]
  },
  {
   "cell_type": "markdown",
   "metadata": {},
   "source": [
    "# Question 7"
   ]
  },
  {
   "cell_type": "markdown",
   "metadata": {},
   "source": [
    "Write a Python program to count and display the vowels of a given text"
   ]
  },
  {
   "cell_type": "code",
   "execution_count": 9,
   "metadata": {},
   "outputs": [
    {
     "name": "stdout",
     "output_type": "stream",
     "text": [
      "Enter String:Write a Python program to count and display the vowels of a given text\n",
      "Vowel a occurs 5 times in text\n",
      "Vowel e occurs 5 times in text\n",
      "Vowel i occurs 3 times in text\n",
      "Vowel o occurs 6 times in text\n",
      "Vowel u occurs 1 times in text\n"
     ]
    }
   ],
   "source": [
    "s = input('Enter String:')\n",
    "a,e,i,o,u = 0,0,0,0,0\n",
    "for j in s:\n",
    "    if (j=='a'):\n",
    "        a += 1\n",
    "    elif (j=='e'):\n",
    "        e += 1\n",
    "    elif(j=='i'):\n",
    "        i += 1\n",
    "    elif(j == 'o'):\n",
    "        o += 1\n",
    "    elif(j == 'u'):\n",
    "        u += 1\n",
    "    else:\n",
    "        continue\n",
    "print('Vowel a occurs',a,'times in text')\n",
    "print('Vowel e occurs',e,'times in text')\n",
    "print('Vowel i occurs',i,'times in text')\n",
    "print('Vowel o occurs',o,'times in text')\n",
    "print('Vowel u occurs',u,'times in text')"
   ]
  },
  {
   "cell_type": "markdown",
   "metadata": {},
   "source": [
    "# Question 8"
   ]
  },
  {
   "cell_type": "markdown",
   "metadata": {},
   "source": [
    "Write a Python script to generate and print a dictionary that contains a number (between 1 and n) in the form (x, x*x)"
   ]
  },
  {
   "cell_type": "code",
   "execution_count": 11,
   "metadata": {},
   "outputs": [
    {
     "name": "stdout",
     "output_type": "stream",
     "text": [
      "Enter number:10\n",
      "[(1, 1), (2, 4), (3, 9), (4, 16), (5, 25), (6, 36), (7, 49), (8, 64), (9, 81)]\n"
     ]
    }
   ],
   "source": [
    "n = int(input('Enter number:'))\n",
    "ls1,ls2 = [],[]\n",
    "for i in range(1,n):\n",
    "    ls1.append(i)\n",
    "    ls2.append(i*i)\n",
    "dict = zip(ls1,ls2)\n",
    "print(list(dict))"
   ]
  },
  {
   "cell_type": "markdown",
   "metadata": {},
   "source": [
    "# Question 9"
   ]
  },
  {
   "cell_type": "markdown",
   "metadata": {},
   "source": [
    "Write a Python program to combine two dictionary adding values for common keys\n",
    "\n",
    "● d1 = {'a': 100, 'b': 200, 'c':300}\n",
    "\n",
    "● d2 = {'a': 300, 'b': 200, 'd':400}\n",
    "\n",
    "● Sample output: Counter({'a': 400, 'b': 400, 'd': 400, 'c': 300})"
   ]
  },
  {
   "cell_type": "code",
   "execution_count": 12,
   "metadata": {},
   "outputs": [
    {
     "name": "stdout",
     "output_type": "stream",
     "text": [
      "Counter({'a': 400, 'b': 400, 'd': 400, 'c': 300})\n"
     ]
    }
   ],
   "source": [
    "from collections import Counter\n",
    "d1 = {'a': 100, 'b': 200, 'c':300}\n",
    "d2 = {'a': 300, 'b': 200, 'd':400}\n",
    "d = Counter(d1) + Counter(d2)\n",
    "print(d)"
   ]
  },
  {
   "cell_type": "markdown",
   "metadata": {},
   "source": [
    "# Question 10"
   ]
  },
  {
   "cell_type": "markdown",
   "metadata": {},
   "source": [
    "Write a Python program to print all unique values in a dictionary\n",
    "\n",
    "● Sample Data : [{\"V\":\"S001\"}, {\"V\": \"S002\"}, {\"VI\": \"S001\"}, {\"VI\": \"S005\"}, {\"VII\":\"S005\"}, {\"V\":\"S009\"},{\"VIII\":\"S007\"}]\n",
    "    \n",
    "● Expected Output : Unique Values: {'S005', 'S002', 'S007', 'S001', 'S009'}"
   ]
  },
  {
   "cell_type": "code",
   "execution_count": 18,
   "metadata": {},
   "outputs": [
    {
     "name": "stdout",
     "output_type": "stream",
     "text": [
      "{'S005', 'S007', 'S002', 'S001', 'S009'}\n"
     ]
    }
   ],
   "source": [
    "d = [{\"V\":\"S001\"}, {\"V\": \"S002\"}, {\"VI\": \"S001\"}, {\"VI\": \"S005\"}, {\"VII\":\"S005\"}, {\"V\":\"S009\"},{\"VIII\":\"S007\"}]\n",
    "s = set()\n",
    "for dic in d:\n",
    "   for val in dic.values():\n",
    "      s.add(val)\n",
    "print(s)"
   ]
  }
 ],
 "metadata": {
  "kernelspec": {
   "display_name": "Python 3",
   "language": "python",
   "name": "python3"
  },
  "language_info": {
   "codemirror_mode": {
    "name": "ipython",
    "version": 3
   },
   "file_extension": ".py",
   "mimetype": "text/x-python",
   "name": "python",
   "nbconvert_exporter": "python",
   "pygments_lexer": "ipython3",
   "version": "3.7.4"
  }
 },
 "nbformat": 4,
 "nbformat_minor": 4
}
